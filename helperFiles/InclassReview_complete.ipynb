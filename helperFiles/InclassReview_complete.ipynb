{
 "cells": [
  {
   "cell_type": "code",
   "execution_count": 2,
   "id": "777fcabc",
   "metadata": {},
   "outputs": [],
   "source": [
    "bob_saget = {\n",
    "    \"id\":1,\n",
    "    \"first_name\": \"robert\",\n",
    "    \"last_name\":\"saget\",\n",
    "    \"age\":65,\n",
    "    \"deceased\": True,\n",
    "    \"films\":[\"Spaced Out\", \"Half Baked\", \"Madagascar\"],\n",
    "    \"television\":[\"Full House\", \"American's Funniest Home Video\", \"How I Met Your Mother\"],\n",
    "    \"wife\":{\n",
    "        \"name\":\"Sherri Kramer\",\n",
    "        \"age\":41,\n",
    "        \"deceased\": True,\n",
    "        \"children\":[\"Aubrey Saget\", \"Lara Saget\",\"Jennifer Saget\"]\n",
    "    }\n",
    "\n",
    "}"
   ]
  },
  {
   "cell_type": "markdown",
   "metadata": {},
   "source": [
    "## Print \"Robert Saget\""
   ]
  },
  {
   "cell_type": "code",
   "execution_count": 4,
   "metadata": {},
   "outputs": [
    {
     "name": "stdout",
     "output_type": "stream",
     "text": [
      "Robert Saget\n"
     ]
    }
   ],
   "source": [
    "print(bob_saget[\"first_name\"].title()+\" \"+bob_saget[\"last_name\"].title())"
   ]
  },
  {
   "cell_type": "markdown",
   "metadata": {},
   "source": [
    "## Print \"True\""
   ]
  },
  {
   "cell_type": "code",
   "execution_count": 5,
   "metadata": {},
   "outputs": [
    {
     "name": "stdout",
     "output_type": "stream",
     "text": [
      "True\n"
     ]
    }
   ],
   "source": [
    "print(bob_saget[\"deceased\"])"
   ]
  },
  {
   "cell_type": "markdown",
   "metadata": {},
   "source": [
    "## Print \"American's Funniest Home Video\""
   ]
  },
  {
   "cell_type": "code",
   "execution_count": 6,
   "metadata": {},
   "outputs": [
    {
     "name": "stdout",
     "output_type": "stream",
     "text": [
      "American's Funniest Home Video\n"
     ]
    }
   ],
   "source": [
    "print(bob_saget[\"television\"][1])"
   ]
  },
  {
   "cell_type": "markdown",
   "metadata": {},
   "source": [
    "## Print Bob was in Spaced Out, Half Baked, Madascar"
   ]
  },
  {
   "cell_type": "code",
   "execution_count": 9,
   "metadata": {},
   "outputs": [
    {
     "name": "stdout",
     "output_type": "stream",
     "text": [
      "Bob was in Spaced Out, Half Baked, Madagascar"
     ]
    }
   ],
   "source": [
    "print(f\"Bob was in \", end=\"\")\n",
    "for index, movie in enumerate(bob_saget[\"films\"]):\n",
    "    if index == len(bob_saget[\"films\"])-1:\n",
    "        print(movie, end=\"\")\n",
    "    else:\n",
    "        print(movie, end=\", \")"
   ]
  },
  {
   "cell_type": "markdown",
   "metadata": {},
   "source": [
    "## Print Sherri had 3 kids: Aubrey Lara and Jennifer"
   ]
  },
  {
   "cell_type": "code",
   "execution_count": 11,
   "metadata": {},
   "outputs": [
    {
     "name": "stdout",
     "output_type": "stream",
     "text": [
      "Sherri had 3 kids: Aubrey Lara and Jennifer "
     ]
    }
   ],
   "source": [
    "print(bob_saget[\"wife\"][\"name\"].split()[0], \"had 3 kids: \", end=\"\")\n",
    "for index, kid in enumerate(bob_saget['wife']['children']):\n",
    "    if index == len(bob_saget[\"wife\"][\"children\"])-2:\n",
    "        print(kid.split()[0], end=\" and \")\n",
    "    else:\n",
    "        print(kid.split()[0], end=' ')\n",
    "        "
   ]
  },
  {
   "cell_type": "markdown",
   "metadata": {},
   "source": [
    "## Write a function that will accept a person dictionary and return \"That person is Alive\" or \"That person has passed\" in accoradance with the values in the dictionary"
   ]
  },
  {
   "cell_type": "code",
   "execution_count": 13,
   "metadata": {},
   "outputs": [
    {
     "data": {
      "text/plain": [
       "'That person has passed'"
      ]
     },
     "execution_count": 13,
     "metadata": {},
     "output_type": "execute_result"
    }
   ],
   "source": [
    "def is_dead(person):\n",
    "    return \"That person is Alive\" if not person[\"deceased\"] else \"That person has passed\"\n",
    "\n",
    "is_dead(bob_saget)"
   ]
  },
  {
   "cell_type": "code",
   "execution_count": 33,
   "id": "333abc77",
   "metadata": {},
   "outputs": [],
   "source": [
    "items=[{\n",
    "    \"id\":4,\n",
    "    \"name\":\"Red Sneakers\",\n",
    "    \"desc\":\"I love red shoes\",\n",
    "    \"price\":109.99,\n",
    "    \"category\":\"shoes\",\n",
    "    },\n",
    "    {\n",
    "    \"id\":3,\n",
    "    \"name\":\"Blue Heels\",\n",
    "    \"desc\":\"I Can't walk in these\",\n",
    "    \"price\":69.99,\n",
    "    \"category\":\"shoes\",\n",
    "    }\n",
    "    ,\n",
    "    {\n",
    "    \"id\":2,\n",
    "    \"name\":\"Aerosmith T-Shirt\",\n",
    "    \"desc\":\"Show others you used to have bad taste in music\",\n",
    "    \"price\":4.99,\n",
    "    \"category\":\"shirts\",\n",
    "    }\n",
    "    ,{\n",
    "    \"id\":1,\n",
    "    \"name\":\"Vote for Pedro T\",\n",
    "    \"desc\":\"Napolean Dynomite Theme T\",\n",
    "    \"price\":19.99,\n",
    "    \"category\":\"shirts\",\n",
    "    }\n",
    "    ,{\n",
    "    \"id\":5,\n",
    "    \"name\":\"NY Yankees Hat\",\n",
    "    \"desc\":\"I hate the Red Sox\",\n",
    "    \"price\":24.99,\n",
    "    \"category\":\"hats\",\n",
    "    }\n",
    "    ,{\n",
    "    \"id\":6,\n",
    "    \"name\":\"Cowboy\",\n",
    "    \"desc\":\"Get ready for the ho-down\",\n",
    "    \"price\":49.99,\n",
    "    \"category\":\"hats\",\n",
    "    },\n",
    "    {\n",
    "    \"id\":7,\n",
    "    \"name\":\"Fedora\",\n",
    "    \"desc\":\"The hat not the OS\",\n",
    "    \"price\":16.47,\n",
    "    \"category\":\"hats\",\n",
    "    }]"
   ]
  },
  {
   "cell_type": "markdown",
   "metadata": {},
   "source": [
    "## Print all the items in the list surrounded by bars (see example)"
   ]
  },
  {
   "cell_type": "code",
   "execution_count": 34,
   "metadata": {},
   "outputs": [
    {
     "name": "stdout",
     "output_type": "stream",
     "text": [
      " ===================\n",
      "| 4\n",
      "|~~~~~~~~~~~~~~~~~~\n",
      "| Red Sneakers\n",
      "| I love red shoes\n",
      "| 109.99\n",
      "| shoes\n",
      " ===================\n",
      " ===================\n",
      "| 3\n",
      "|~~~~~~~~~~~~~~~~~~\n",
      "| Blue Heels\n",
      "| I Can't walk in these\n",
      "| 69.99\n",
      "| shoes\n",
      " ===================\n",
      " ===================\n",
      "| 2\n",
      "|~~~~~~~~~~~~~~~~~~\n",
      "| Aerosmith T-Shirt\n",
      "| Show others you used to have bad taste in music\n",
      "| 4.99\n",
      "| shirts\n",
      " ===================\n",
      " ===================\n",
      "| 1\n",
      "|~~~~~~~~~~~~~~~~~~\n",
      "| Vote for Pedro T\n",
      "| Napolean Dynomite Theme T\n",
      "| 19.99\n",
      "| shirts\n",
      " ===================\n",
      " ===================\n",
      "| 5\n",
      "|~~~~~~~~~~~~~~~~~~\n",
      "| NY Yankees Hat\n",
      "| I hate the Red Sox\n",
      "| 24.99\n",
      "| hats\n",
      " ===================\n",
      " ===================\n",
      "| 6\n",
      "|~~~~~~~~~~~~~~~~~~\n",
      "| Cowboy\n",
      "| Get ready for the ho-down\n",
      "| 49.99\n",
      "| hats\n",
      " ===================\n",
      " ===================\n",
      "| 7\n",
      "|~~~~~~~~~~~~~~~~~~\n",
      "| Fedora\n",
      "| The hat not the OS\n",
      "| 16.47\n",
      "| hats\n",
      " ===================\n"
     ]
    }
   ],
   "source": [
    "for item in items:\n",
    "    print(\" ===================\")\n",
    "    print(f\"| {item['id']}\")\n",
    "    print(\"|~~~~~~~~~~~~~~~~~~\")\n",
    "    print(f\"| {item['name']}\")\n",
    "    print(f\"| {item['desc']}\")\n",
    "    print(f\"| {item['price']}\")\n",
    "    print(f\"| {item['category']}\")\n",
    "    print(\" ===================\")\n",
    "    "
   ]
  },
  {
   "cell_type": "markdown",
   "metadata": {},
   "source": [
    "## Print the total price for all the items in the list"
   ]
  },
  {
   "cell_type": "code",
   "execution_count": 35,
   "metadata": {},
   "outputs": [
    {
     "data": {
      "text/plain": [
       "296.41"
      ]
     },
     "execution_count": 35,
     "metadata": {},
     "output_type": "execute_result"
    }
   ],
   "source": [
    "from functools import reduce\n",
    "round(reduce(lambda total, next_i: {\"price\": total[\"price\"]+next_i[\"price\"]},items)[\"price\"],2)\n"
   ]
  },
  {
   "cell_type": "markdown",
   "metadata": {},
   "source": [
    "## Write a function that will print all the items in a certain category:"
   ]
  },
  {
   "cell_type": "code",
   "execution_count": 36,
   "metadata": {},
   "outputs": [
    {
     "data": {
      "text/plain": [
       "[{'id': 5,\n",
       "  'name': 'NY Yankees Hat',\n",
       "  'desc': 'I hate the Red Sox',\n",
       "  'price': 24.99,\n",
       "  'category': 'hats'},\n",
       " {'id': 6,\n",
       "  'name': 'Cowboy',\n",
       "  'desc': 'Get ready for the ho-down',\n",
       "  'price': 49.99,\n",
       "  'category': 'hats'},\n",
       " {'id': 7,\n",
       "  'name': 'Fedora',\n",
       "  'desc': 'The hat not the OS',\n",
       "  'price': 16.47,\n",
       "  'category': 'hats'}]"
      ]
     },
     "execution_count": 36,
     "metadata": {},
     "output_type": "execute_result"
    }
   ],
   "source": [
    "def get_by_cat(cat):\n",
    "    return list(filter(lambda i: i[\"category\"]==cat, items))\n",
    "\n",
    "\n",
    "get_by_cat(\"hats\")"
   ]
  },
  {
   "cell_type": "markdown",
   "metadata": {},
   "source": [
    "## Write a function to change the category for everything in shoes and everything in hats and put them in a new category called accessories"
   ]
  },
  {
   "cell_type": "code",
   "execution_count": 37,
   "metadata": {},
   "outputs": [
    {
     "data": {
      "text/plain": [
       "[{'id': 4,\n",
       "  'name': 'Red Sneakers',\n",
       "  'desc': 'I love red shoes',\n",
       "  'price': 109.99,\n",
       "  'category': 'accessories'},\n",
       " {'id': 3,\n",
       "  'name': 'Blue Heels',\n",
       "  'desc': \"I Can't walk in these\",\n",
       "  'price': 69.99,\n",
       "  'category': 'accessories'},\n",
       " {'id': 2,\n",
       "  'name': 'Aerosmith T-Shirt',\n",
       "  'desc': 'Show others you used to have bad taste in music',\n",
       "  'price': 4.99,\n",
       "  'category': 'shirts'},\n",
       " {'id': 1,\n",
       "  'name': 'Vote for Pedro T',\n",
       "  'desc': 'Napolean Dynomite Theme T',\n",
       "  'price': 19.99,\n",
       "  'category': 'shirts'},\n",
       " {'id': 5,\n",
       "  'name': 'NY Yankees Hat',\n",
       "  'desc': 'I hate the Red Sox',\n",
       "  'price': 24.99,\n",
       "  'category': 'accessories'},\n",
       " {'id': 6,\n",
       "  'name': 'Cowboy',\n",
       "  'desc': 'Get ready for the ho-down',\n",
       "  'price': 49.99,\n",
       "  'category': 'accessories'},\n",
       " {'id': 7,\n",
       "  'name': 'Fedora',\n",
       "  'desc': 'The hat not the OS',\n",
       "  'price': 16.47,\n",
       "  'category': 'accessories'}]"
      ]
     },
     "execution_count": 37,
     "metadata": {},
     "output_type": "execute_result"
    }
   ],
   "source": [
    "def make_assessories():\n",
    "    for item in items:\n",
    "        if item[\"category\"] == \"hats\" or item[\"category\"] == \"shoes\":\n",
    "            item[\"category\"]=\"accessories\"\n",
    "    return items\n",
    "    \n",
    "make_assessories()\n",
    "    "
   ]
  },
  {
   "cell_type": "markdown",
   "metadata": {},
   "source": [
    "# Filter the list for all items over the price of 19.99"
   ]
  },
  {
   "cell_type": "code",
   "execution_count": 38,
   "metadata": {},
   "outputs": [
    {
     "name": "stdout",
     "output_type": "stream",
     "text": [
      "[{'id': 4, 'name': 'Red Sneakers', 'desc': 'I love red shoes', 'price': 109.99, 'category': 'accessories'}, {'id': 3, 'name': 'Blue Heels', 'desc': \"I Can't walk in these\", 'price': 69.99, 'category': 'accessories'}, {'id': 5, 'name': 'NY Yankees Hat', 'desc': 'I hate the Red Sox', 'price': 24.99, 'category': 'accessories'}, {'id': 6, 'name': 'Cowboy', 'desc': 'Get ready for the ho-down', 'price': 49.99, 'category': 'accessories'}]\n"
     ]
    }
   ],
   "source": [
    "print(list(filter(lambda i: i[\"price\"]>19.99, items)))"
   ]
  },
  {
   "cell_type": "markdown",
   "metadata": {},
   "source": [
    "# Print every letter the the description of the Fedora Hat on a new line"
   ]
  },
  {
   "cell_type": "code",
   "execution_count": 39,
   "metadata": {},
   "outputs": [
    {
     "name": "stdout",
     "output_type": "stream",
     "text": [
      "T\n",
      "h\n",
      "e\n",
      " \n",
      "h\n",
      "a\n",
      "t\n",
      " \n",
      "n\n",
      "o\n",
      "t\n",
      " \n",
      "t\n",
      "h\n",
      "e\n",
      " \n",
      "O\n",
      "S\n"
     ]
    }
   ],
   "source": [
    "for letter in items[-1]['desc']:\n",
    "    print(letter)"
   ]
  },
  {
   "cell_type": "markdown",
   "metadata": {},
   "source": [
    "# Write a function the will accept an item dictionary and remove that item from the list of items"
   ]
  },
  {
   "cell_type": "code",
   "execution_count": 40,
   "metadata": {},
   "outputs": [
    {
     "data": {
      "text/plain": [
       "[{'id': 4,\n",
       "  'name': 'Red Sneakers',\n",
       "  'desc': 'I love red shoes',\n",
       "  'price': 109.99,\n",
       "  'category': 'accessories'},\n",
       " {'id': 3,\n",
       "  'name': 'Blue Heels',\n",
       "  'desc': \"I Can't walk in these\",\n",
       "  'price': 69.99,\n",
       "  'category': 'accessories'},\n",
       " {'id': 2,\n",
       "  'name': 'Aerosmith T-Shirt',\n",
       "  'desc': 'Show others you used to have bad taste in music',\n",
       "  'price': 4.99,\n",
       "  'category': 'shirts'},\n",
       " {'id': 1,\n",
       "  'name': 'Vote for Pedro T',\n",
       "  'desc': 'Napolean Dynomite Theme T',\n",
       "  'price': 19.99,\n",
       "  'category': 'shirts'},\n",
       " {'id': 5,\n",
       "  'name': 'NY Yankees Hat',\n",
       "  'desc': 'I hate the Red Sox',\n",
       "  'price': 24.99,\n",
       "  'category': 'accessories'},\n",
       " {'id': 6,\n",
       "  'name': 'Cowboy',\n",
       "  'desc': 'Get ready for the ho-down',\n",
       "  'price': 49.99,\n",
       "  'category': 'accessories'},\n",
       " {'id': 7,\n",
       "  'name': 'Fedora',\n",
       "  'desc': 'The hat not the OS',\n",
       "  'price': 16.47,\n",
       "  'category': 'accessories'}]"
      ]
     },
     "execution_count": 40,
     "metadata": {},
     "output_type": "execute_result"
    }
   ],
   "source": [
    "items"
   ]
  },
  {
   "cell_type": "code",
   "execution_count": 41,
   "metadata": {
    "scrolled": true
   },
   "outputs": [
    {
     "data": {
      "text/plain": [
       "[{'id': 4,\n",
       "  'name': 'Red Sneakers',\n",
       "  'desc': 'I love red shoes',\n",
       "  'price': 109.99,\n",
       "  'category': 'accessories'},\n",
       " {'id': 3,\n",
       "  'name': 'Blue Heels',\n",
       "  'desc': \"I Can't walk in these\",\n",
       "  'price': 69.99,\n",
       "  'category': 'accessories'},\n",
       " {'id': 2,\n",
       "  'name': 'Aerosmith T-Shirt',\n",
       "  'desc': 'Show others you used to have bad taste in music',\n",
       "  'price': 4.99,\n",
       "  'category': 'shirts'},\n",
       " {'id': 5,\n",
       "  'name': 'NY Yankees Hat',\n",
       "  'desc': 'I hate the Red Sox',\n",
       "  'price': 24.99,\n",
       "  'category': 'accessories'},\n",
       " {'id': 6,\n",
       "  'name': 'Cowboy',\n",
       "  'desc': 'Get ready for the ho-down',\n",
       "  'price': 49.99,\n",
       "  'category': 'accessories'},\n",
       " {'id': 7,\n",
       "  'name': 'Fedora',\n",
       "  'desc': 'The hat not the OS',\n",
       "  'price': 16.47,\n",
       "  'category': 'accessories'}]"
      ]
     },
     "execution_count": 41,
     "metadata": {},
     "output_type": "execute_result"
    }
   ],
   "source": [
    "def remove_item(item):\n",
    "    items.remove(item)\n",
    "    return items\n",
    "\n",
    "remove_item( {'id': 1,\n",
    "  'name': 'Vote for Pedro T',\n",
    "  'desc': 'Napolean Dynomite Theme T',\n",
    "  'price': 19.99,\n",
    "  'category': 'shirts'})"
   ]
  },
  {
   "cell_type": "code",
   "execution_count": 42,
   "metadata": {},
   "outputs": [],
   "source": [
    "def remove_item(item):\n",
    "    return list(filter(lambda i: i!=item, items))\n"
   ]
  },
  {
   "cell_type": "code",
   "execution_count": 47,
   "id": "de510f46",
   "metadata": {},
   "outputs": [],
   "source": [
    "class Rapper():\n",
    "    def __init__(self, n, s, a):\n",
    "        self.name = a\n",
    "        self.style = s\n",
    "        self.age = n\n",
    "        self.tracks=[]\n",
    "        self.label = None\n",
    "        \n",
    "    def sign_artist(self, label):\n",
    "        if not self.label:\n",
    "            self.label = label\n",
    "        \n",
    "    def __repr__(self):\n",
    "        return f\"<Rapper: {self.name}| {self.age}>\"\n",
    "        \n",
    "    def rap(self):\n",
    "        return \"\"\"I said-a hip, hop, the hippie, the hippie\n",
    "        To the hip hip hop-a you don't stop the rock\n",
    "        it to the bang-bang boogie, say up jump the boogie\n",
    "        To the rhythm of the boogie, the beat...\n",
    "        \"\"\"\n",
    "    \n",
    "    def drop_label(self):\n",
    "        self.label=None\n",
    "        \n",
    "    def create_song(self, title):\n",
    "        self.tracks.append(title)\n",
    "        \n",
    "    def remove_song_by_track(self,track_number):\n",
    "        del self.tracks[track_number]\n",
    "        \n",
    "    def remove_song_by_title(self,title):\n",
    "        self.tracks.remove(title)\n",
    "        \n",
    "    def __lt__(self, __o):\n",
    "        return self.age < __o.age\n",
    "    \n",
    "    def __gt__(self, __o):\n",
    "        return self.age > __o.age\n",
    "    \n",
    "    def __le__(self, __o):\n",
    "        return self.age <= __o.age\n",
    "    \n",
    "    def __ge__(self, __o):\n",
    "        return self.age >= __o.age\n",
    "    \n",
    "    def __eq__(self,__o):\n",
    "        return self.age == __o.age"
   ]
  },
  {
   "cell_type": "code",
   "execution_count": 54,
   "id": "b5af3622",
   "metadata": {},
   "outputs": [],
   "source": [
    "llcoolj = Rapper(54, \"New School Hip Hop\" ,\"LL Cool J\")\n",
    "tupac  = Rapper(25, \"Gangster Rap\" ,\"Tupac Amaru Shakur\")\n",
    "lilpump  = Rapper(22, \"Mumble\" ,\"Lil Pump\")\n",
    "youngthug = Rapper(31,\"Trap\",\"Young Thug\")\n",
    "\n",
    "rappers=[tupac, lilpump, llcoolj, youngthug]"
   ]
  },
  {
   "cell_type": "markdown",
   "metadata": {},
   "source": [
    "## Give me the total age of all the rappers combined"
   ]
  },
  {
   "cell_type": "code",
   "execution_count": 55,
   "metadata": {},
   "outputs": [
    {
     "name": "stdout",
     "output_type": "stream",
     "text": [
      "132\n"
     ]
    }
   ],
   "source": [
    "total = 0 \n",
    "for rapper in rappers:\n",
    "    total += rapper.age\n",
    "    \n",
    "print(total)"
   ]
  },
  {
   "cell_type": "markdown",
   "metadata": {},
   "source": [
    "## Sort the list of rappers by age Out Of Place; Oldest to youngest"
   ]
  },
  {
   "cell_type": "code",
   "execution_count": 56,
   "metadata": {},
   "outputs": [
    {
     "name": "stdout",
     "output_type": "stream",
     "text": [
      "[<Rapper: LL Cool J| 54>, <Rapper: Young Thug| 31>, <Rapper: Tupac Amaru Shakur| 25>, <Rapper: Lil Pump| 22>]\n"
     ]
    }
   ],
   "source": [
    "print(sorted(rappers, reverse=True))"
   ]
  },
  {
   "cell_type": "markdown",
   "metadata": {},
   "source": [
    "## have llcoolj sign with 'Def Jam Records' and verify it by printing LL's record label using his object"
   ]
  },
  {
   "cell_type": "code",
   "execution_count": 57,
   "metadata": {},
   "outputs": [
    {
     "name": "stdout",
     "output_type": "stream",
     "text": [
      "Def Jam Records\n"
     ]
    }
   ],
   "source": [
    "llcoolj.sign_artist(\"Def Jam Records\")\n",
    "print(llcoolj.label)"
   ]
  },
  {
   "cell_type": "markdown",
   "metadata": {},
   "source": [
    "## Now have LL Cool J Drop Def Jam and have him sign with '429' "
   ]
  },
  {
   "cell_type": "code",
   "execution_count": 60,
   "metadata": {},
   "outputs": [
    {
     "name": "stdout",
     "output_type": "stream",
     "text": [
      "429\n"
     ]
    }
   ],
   "source": [
    "llcoolj.drop_label()\n",
    "llcoolj.sign_artist(\"429\")\n",
    "\n",
    "\n",
    "print(llcoolj.label)"
   ]
  },
  {
   "cell_type": "markdown",
   "metadata": {},
   "source": [
    "## Add Songs to Tupac:\n",
    "    add 'Hit em Up'\n",
    "    add 'Ambitionz az a Ridah'\n",
    "    add 'Brenda's got a Baby'\n",
    "    add 'California Love'\n",
    "    add 'All Eyez on Me'\n",
    " Verify by printing track list for tupac"
   ]
  },
  {
   "cell_type": "code",
   "execution_count": 62,
   "metadata": {},
   "outputs": [
    {
     "name": "stdout",
     "output_type": "stream",
     "text": [
      "['Hit em Up', 'Ambitionz az a Ridah', \"Brenda's got a Baby\", 'California Love', 'All Eyez on Me']\n"
     ]
    }
   ],
   "source": [
    "\n",
    "tupac.create_song( 'Hit em Up')\n",
    "tupac.create_song('Ambitionz az a Ridah')\n",
    "tupac.create_song('Brenda\\'s got a Baby')\n",
    "tupac.create_song('California Love')\n",
    "tupac.create_song('All Eyez on Me')\n",
    "print(tupac.tracks)\n"
   ]
  },
  {
   "cell_type": "markdown",
   "metadata": {},
   "source": [
    "## Remove the 2nd track and verify by printing Tupac Track List"
   ]
  },
  {
   "cell_type": "code",
   "execution_count": 63,
   "metadata": {},
   "outputs": [
    {
     "name": "stdout",
     "output_type": "stream",
     "text": [
      "['Hit em Up', \"Brenda's got a Baby\", 'California Love', 'All Eyez on Me']\n"
     ]
    }
   ],
   "source": [
    "tupac.remove_song_by_track(1)\n",
    "print(tupac.tracks)\n"
   ]
  },
  {
   "cell_type": "markdown",
   "metadata": {},
   "source": [
    "## Remove the track All Eyez on Me and verify by printing Tupac Track List"
   ]
  },
  {
   "cell_type": "code",
   "execution_count": 64,
   "id": "47937b35",
   "metadata": {},
   "outputs": [
    {
     "name": "stdout",
     "output_type": "stream",
     "text": [
      "['Hit em Up', \"Brenda's got a Baby\", 'California Love']\n"
     ]
    }
   ],
   "source": [
    "tupac.remove_song_by_title(\"All Eyez on Me\")\n",
    "\n",
    "print(tupac.tracks)\n"
   ]
  }
 ],
 "metadata": {
  "kernelspec": {
   "display_name": "Python 3",
   "language": "python",
   "name": "python3"
  },
  "language_info": {
   "codemirror_mode": {
    "name": "ipython",
    "version": 3
   },
   "file_extension": ".py",
   "mimetype": "text/x-python",
   "name": "python",
   "nbconvert_exporter": "python",
   "pygments_lexer": "ipython3",
   "version": "3.10.5"
  }
 },
 "nbformat": 4,
 "nbformat_minor": 5
}
